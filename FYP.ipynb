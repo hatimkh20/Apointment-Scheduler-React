{
  "cells": [
    {
      "cell_type": "markdown",
      "id": "a1e1fb8a",
      "metadata": {
        "id": "a1e1fb8a"
      },
      "source": [
        "# Categorising in-text Citations"
      ]
    },
    {
      "cell_type": "code",
      "execution_count": 2,
      "id": "cvuolowpaGll",
      "metadata": {
        "colab": {
          "base_uri": "https://localhost:8080/"
        },
        "id": "cvuolowpaGll",
        "outputId": "083101a7-30a1-44f6-a010-ba21d0ac4441"
      },
      "outputs": [
        {
          "output_type": "stream",
          "name": "stdout",
          "text": [
            "Looking in indexes: https://pypi.org/simple, https://us-python.pkg.dev/colab-wheels/public/simple/\n",
            "Requirement already satisfied: transformers in /usr/local/lib/python3.8/dist-packages (4.26.1)\n",
            "Requirement already satisfied: mongoengine in /usr/local/lib/python3.8/dist-packages (0.26.0)\n",
            "Requirement already satisfied: filelock in /usr/local/lib/python3.8/dist-packages (from transformers) (3.9.0)\n",
            "Requirement already satisfied: numpy>=1.17 in /usr/local/lib/python3.8/dist-packages (from transformers) (1.21.6)\n",
            "Requirement already satisfied: tokenizers!=0.11.3,<0.14,>=0.11.1 in /usr/local/lib/python3.8/dist-packages (from transformers) (0.13.2)\n",
            "Requirement already satisfied: pyyaml>=5.1 in /usr/local/lib/python3.8/dist-packages (from transformers) (6.0)\n",
            "Requirement already satisfied: regex!=2019.12.17 in /usr/local/lib/python3.8/dist-packages (from transformers) (2022.6.2)\n",
            "Requirement already satisfied: tqdm>=4.27 in /usr/local/lib/python3.8/dist-packages (from transformers) (4.64.1)\n",
            "Requirement already satisfied: packaging>=20.0 in /usr/local/lib/python3.8/dist-packages (from transformers) (23.0)\n",
            "Requirement already satisfied: requests in /usr/local/lib/python3.8/dist-packages (from transformers) (2.25.1)\n",
            "Requirement already satisfied: huggingface-hub<1.0,>=0.11.0 in /usr/local/lib/python3.8/dist-packages (from transformers) (0.12.0)\n",
            "Requirement already satisfied: pymongo<5.0,>=3.4 in /usr/local/lib/python3.8/dist-packages (from mongoengine) (4.3.3)\n",
            "Requirement already satisfied: typing-extensions>=3.7.4.3 in /usr/local/lib/python3.8/dist-packages (from huggingface-hub<1.0,>=0.11.0->transformers) (4.4.0)\n",
            "Requirement already satisfied: dnspython<3.0.0,>=1.16.0 in /usr/local/lib/python3.8/dist-packages (from pymongo<5.0,>=3.4->mongoengine) (2.3.0)\n",
            "Requirement already satisfied: certifi>=2017.4.17 in /usr/local/lib/python3.8/dist-packages (from requests->transformers) (2022.12.7)\n",
            "Requirement already satisfied: urllib3<1.27,>=1.21.1 in /usr/local/lib/python3.8/dist-packages (from requests->transformers) (1.24.3)\n",
            "Requirement already satisfied: chardet<5,>=3.0.2 in /usr/local/lib/python3.8/dist-packages (from requests->transformers) (4.0.0)\n",
            "Requirement already satisfied: idna<3,>=2.5 in /usr/local/lib/python3.8/dist-packages (from requests->transformers) (2.10)\n"
          ]
        }
      ],
      "source": [
        "!pip install transformers mongoengine"
      ]
    },
    {
      "cell_type": "code",
      "execution_count": null,
      "id": "d9cf57cc",
      "metadata": {
        "id": "d9cf57cc"
      },
      "outputs": [],
      "source": [
        "from lxml import etree\n",
        "import numpy as np\n",
        "import pandas as pd\n",
        "import json\n",
        "from nltk import tokenize\n",
        "import nltk\n",
        "import string\n",
        "import math\n",
        "from pprint import pprint\n",
        "import re\n",
        "from transformers import pipeline\n",
        "import requests\n",
        "import traceback\n",
        "from mongoengine import connect\n",
        "from mongoengine.errors import NotUniqueError\n",
        "from mongoengine import Document, StringField, FloatField, DateField, ListField, IntField, EmbeddedDocument, EmbeddedDocumentField"
      ]
    },
    {
      "cell_type": "code",
      "execution_count": null,
      "id": "UFG0muJseL2Z",
      "metadata": {
        "id": "UFG0muJseL2Z"
      },
      "outputs": [],
      "source": [
        "nltk.download(\"punkt\")"
      ]
    },
    {
      "cell_type": "markdown",
      "id": "7652759b",
      "metadata": {
        "id": "7652759b"
      },
      "source": [
        "### MongoDB Connection"
      ]
    },
    {
      "cell_type": "code",
      "execution_count": null,
      "id": "835c26ca",
      "metadata": {
        "id": "835c26ca"
      },
      "outputs": [],
      "source": [
        "db = connect(\n",
        "    db='Articles',\n",
        "    username='Categorising_in_text_Citations',\n",
        "    password='#Food123',\n",
        "    host='mongodb+srv://cluster0.gkdshl2.mongodb.net/'\n",
        ")"
      ]
    },
    {
      "cell_type": "code",
      "execution_count": null,
      "id": "9460d256",
      "metadata": {
        "id": "9460d256"
      },
      "outputs": [],
      "source": [
        "class Reference(EmbeddedDocument):\n",
        "    id = StringField(required=True, primary_key=True)\n",
        "    ref_doi = StringField()\n",
        "    ref_author = StringField(required=True)\n",
        "    ref_text = StringField(required=True)\n",
        "    ref_article_title = StringField()\n",
        "    citations = ListField(EmbeddedDocumentField('Citation'))\n",
        "    is_referenced_count = IntField()\n",
        "    syntactic_frequency = IntField(required=True)\n",
        "    syntactic_score = FloatField()\n",
        "    polarity_score = FloatField(required=True)\n",
        "    Introduction = IntField(required=True)\n",
        "    Method = IntField(required=True)\n",
        "    Results = IntField(required=True)\n",
        "    Discussion = IntField(required=True)\n",
        "    score = FloatField(required=True)\n",
        "    scoring_category = StringField(required=True)\n",
        "\n",
        "class Citation(EmbeddedDocument):\n",
        "    reference_id = StringField(required=True)\n",
        "    citation_mark = StringField()\n",
        "    citation_section = StringField()\n",
        "    citation_text = StringField()\n",
        "    sentiment = FloatField()\n",
        "    multi_citance = IntField()\n",
        "\n",
        "class Article(Document):\n",
        "    doi = StringField(required=True, pk=True, unique=True)\n",
        "    article_title = StringField(required=True)\n",
        "    abstract = StringField()\n",
        "    journal_title = StringField()\n",
        "    publisher_name = StringField()\n",
        "    publish_date = StringField()\n",
        "    article_authors = ListField(StringField(required=True))\n",
        "    references = ListField(EmbeddedDocumentField(Reference))"
      ]
    },
    {
      "cell_type": "code",
      "execution_count": null,
      "id": "285a3fe5",
      "metadata": {
        "id": "285a3fe5"
      },
      "outputs": [],
      "source": [
        "#nltk.download('punkt')"
      ]
    },
    {
      "cell_type": "code",
      "execution_count": null,
      "id": "a52977e5",
      "metadata": {
        "id": "a52977e5"
      },
      "outputs": [],
      "source": [
        "#response = requests.get('https://api.crossref.org/works/10.7717/peerj-cs.490').json()"
      ]
    },
    {
      "cell_type": "code",
      "execution_count": null,
      "id": "b237afbb",
      "metadata": {
        "id": "b237afbb"
      },
      "outputs": [],
      "source": [
        "#response['message']['is-referenced-by-count']"
      ]
    },
    {
      "cell_type": "markdown",
      "id": "0e68ebea",
      "metadata": {
        "id": "0e68ebea"
      },
      "source": [
        "### Load Model for Sentiment Analysis"
      ]
    },
    {
      "cell_type": "code",
      "execution_count": null,
      "id": "4c217fba",
      "metadata": {
        "id": "4c217fba"
      },
      "outputs": [],
      "source": [
        "SENTIMENT_MODEL = pipeline(model=\"cardiffnlp/twitter-roberta-base-sentiment\")"
      ]
    },
    {
      "cell_type": "markdown",
      "id": "61762a36",
      "metadata": {
        "id": "61762a36"
      },
      "source": [
        "### Cross-ref Response "
      ]
    },
    {
      "cell_type": "code",
      "execution_count": null,
      "id": "8c9c8e09",
      "metadata": {
        "id": "8c9c8e09"
      },
      "outputs": [],
      "source": [
        "def find_CrossRef_Response(doi):\n",
        "    response = ''\n",
        "    try:\n",
        "      response = requests.get('https://api.crossref.org/works/'+ doi).json()\n",
        "    except Exception as e:\n",
        "      print(\"Crossref Error: \", e)\n",
        "    return response"
      ]
    },
    {
      "cell_type": "markdown",
      "id": "a6c7dce9",
      "metadata": {
        "id": "a6c7dce9"
      },
      "source": [
        "### Metadata"
      ]
    },
    {
      "cell_type": "code",
      "execution_count": null,
      "id": "d1c74ab5",
      "metadata": {
        "id": "d1c74ab5"
      },
      "outputs": [],
      "source": [
        "def find_DOI(article_meta):\n",
        "    for article in article_meta:\n",
        "        try:\n",
        "            if(article.attrib['pub-id-type'] == 'doi'):\n",
        "                return article.text\n",
        "        except:\n",
        "            continue"
      ]
    },
    {
      "cell_type": "code",
      "execution_count": null,
      "id": "6cce525e",
      "metadata": {
        "id": "6cce525e"
      },
      "outputs": [],
      "source": [
        "def find_Title(front):\n",
        "    title = front.findall('.//article-title')[0]\n",
        "    article_title = etree.tostring(title, method='text', encoding='unicode')\n",
        "    return article_title"
      ]
    },
    {
      "cell_type": "code",
      "execution_count": null,
      "id": "7e934417",
      "metadata": {
        "id": "7e934417"
      },
      "outputs": [],
      "source": [
        "def find_Journal(front):\n",
        "    journal_title= front.findall('.//journal-title')\n",
        "    return journal_title[0].text"
      ]
    },
    {
      "cell_type": "code",
      "execution_count": null,
      "id": "7d6d8873",
      "metadata": {
        "id": "7d6d8873"
      },
      "outputs": [],
      "source": [
        "def find_Publisher(front):\n",
        "    publisher = front.findall('.//publisher-name')[0]\n",
        "    publisher_name = etree.tostring(publisher, method='text', encoding='unicode')\n",
        "    return publisher_name"
      ]
    },
    {
      "cell_type": "code",
      "execution_count": null,
      "id": "fcac238a",
      "metadata": {
        "id": "fcac238a"
      },
      "outputs": [],
      "source": [
        "def find_Publish_Date(front):\n",
        "    pub_date = front.findall('.//history')[0]\n",
        "\n",
        "    for date in pub_date:\n",
        "        if(date.attrib['date-type']== 'accepted'):\n",
        "            pub_date = date\n",
        "    \n",
        "    published_date = ''\n",
        "    for pub in pub_date:\n",
        "        published_date += pub.text + '-'\n",
        "        \n",
        "    return published_date[:-1]"
      ]
    },
    {
      "cell_type": "code",
      "execution_count": null,
      "id": "66627eea",
      "metadata": {
        "id": "66627eea"
      },
      "outputs": [],
      "source": [
        "def find_Authors(front):\n",
        "    article_author= front.findall('.//contrib')\n",
        "    article_authors = []\n",
        "    for i in article_author:\n",
        "        if i.attrib['contrib-type'] == 'author' :\n",
        "            article_authors.append(i)\n",
        "            \n",
        "    author_names = ''\n",
        "    for name in article_authors:\n",
        "        author = name.findall(\".//name\")[0]\n",
        "\n",
        "        for author_name in author:\n",
        "            author_names += author_name.text + ' '\n",
        "        author_names += ', '\n",
        "        \n",
        "    author_names = author_names[:-2]\n",
        "    author_names = author_names.split(\", \")\n",
        "    return author_names"
      ]
    },
    {
      "cell_type": "code",
      "execution_count": null,
      "id": "9c6076fc",
      "metadata": {
        "id": "9c6076fc"
      },
      "outputs": [],
      "source": [
        "def find_Abstract(front, xml_tree):\n",
        "    abstract = xml_tree.xpath(\".//abstract\")[0]\n",
        "    abstract = etree.tostring(abstract, method='text', encoding='unicode')\n",
        "    return abstract"
      ]
    },
    {
      "cell_type": "code",
      "execution_count": null,
      "id": "ad05fed9",
      "metadata": {
        "id": "ad05fed9"
      },
      "outputs": [],
      "source": [
        "def find_Metadata(front, xml_tree):\n",
        "    doi = find_DOI(front[1])\n",
        "    title = find_Title(front)\n",
        "    journal = find_Journal(front)\n",
        "    publisher = find_Publisher(front)\n",
        "    publish_date = find_Publish_Date(front)\n",
        "    authors = find_Authors(front)\n",
        "    abstract = find_Abstract(front, xml_tree)\n",
        "    \n",
        "    return doi, title, journal,publisher, publish_date, authors, abstract"
      ]
    },
    {
      "cell_type": "markdown",
      "id": "544ede34",
      "metadata": {
        "id": "544ede34"
      },
      "source": [
        "### Article Section Lengths"
      ]
    },
    {
      "cell_type": "code",
      "execution_count": null,
      "id": "baf2eda5",
      "metadata": {
        "id": "baf2eda5"
      },
      "outputs": [],
      "source": [
        "def get_Article_Length(body):\n",
        "    full_article_text = etree.tostring(body, method='text', encoding='unicode')\n",
        "    article_text_length = len(full_article_text.split(\" \"))\n",
        "\n",
        "    introduction_length = round(article_text_length/100) * 25\n",
        "    method_length = round(article_text_length/100) * 50\n",
        "    result_length = round(article_text_length/100) * 75\n",
        "    discussion_length = round(article_text_length/100) * 100\n",
        "    \n",
        "    return article_text_length, introduction_length, method_length, result_length, discussion_length"
      ]
    },
    {
      "cell_type": "code",
      "execution_count": null,
      "id": "d821c691",
      "metadata": {
        "id": "d821c691"
      },
      "outputs": [],
      "source": [
        "def get_Article_Sections(body,introduction_length, method_length, result_length, discussion_length):\n",
        "    sections = []\n",
        "    c_sum = 0\n",
        "    for i in body:\n",
        "        title = i[0].text\n",
        "\n",
        "        if (c_sum < introduction_length):\n",
        "            section = \"Introduction\"\n",
        "        elif (c_sum < method_length):\n",
        "            section = \"Method\"\n",
        "        elif (c_sum < result_length):\n",
        "            section = \"Results\"\n",
        "        else:\n",
        "            section = \"Discussion\"\n",
        "\n",
        "        sections.append({\n",
        "            \"title\": title,\n",
        "            \"start_point\": c_sum,\n",
        "            \"section\": section\n",
        "        })\n",
        "        c_sum += len(etree.tostring(i, method='text', encoding='unicode').split(\" \"))\n",
        "    \n",
        "    return sections"
      ]
    },
    {
      "cell_type": "markdown",
      "id": "6f2405ed",
      "metadata": {
        "id": "6f2405ed"
      },
      "source": [
        "### Citation Schema"
      ]
    },
    {
      "cell_type": "markdown",
      "id": "b38ad538",
      "metadata": {
        "id": "b38ad538"
      },
      "source": [
        "#### Section Name"
      ]
    },
    {
      "cell_type": "code",
      "execution_count": null,
      "id": "4d836db3",
      "metadata": {
        "id": "4d836db3"
      },
      "outputs": [],
      "source": [
        "def verify_section(section_name, sections):\n",
        "    for i in sections:\n",
        "        if (i['title'] == section_name):\n",
        "            return True\n",
        "    else:\n",
        "        return False"
      ]
    },
    {
      "cell_type": "code",
      "execution_count": null,
      "id": "b51f9c9d",
      "metadata": {
        "id": "b51f9c9d"
      },
      "outputs": [],
      "source": [
        "def check_section_name(section):\n",
        "    section = section.lower()\n",
        "    if (section == \"introduction\" or section == \"intro\"):\n",
        "        return \"Introduction\"\n",
        "    \n",
        "    elif (section == \"methods\" or section == \"methodology\" or section== \"method\" or section == \"materials & method\" \n",
        "          or section == \"materials and method\" or section == \"material and method\" or section == \"materials & methods\" ):\n",
        "        return \"Method\"\n",
        "     \n",
        "    elif (section == \"results\" or section == \"result\" or section == \"conclusion\"):\n",
        "        return \"Results\"\n",
        "    \n",
        "    elif (section == \"discussion\" or section== \"future work\" or section == \"future\"):\n",
        "        return \"Discussion\"\n",
        "    \n",
        "    else:\n",
        "        return ''"
      ]
    },
    {
      "cell_type": "code",
      "execution_count": null,
      "id": "92c752c2",
      "metadata": {
        "id": "92c752c2"
      },
      "outputs": [],
      "source": [
        "def split_section_name(section):\n",
        "    sec = section.split()\n",
        "    \n",
        "    for word in sec:\n",
        "        section_name = check_section_name(word)\n",
        "        if(section_name != ''):\n",
        "            return section_name\n",
        "    else:\n",
        "        return ''"
      ]
    },
    {
      "cell_type": "code",
      "execution_count": null,
      "id": "fb2ff86e",
      "metadata": {
        "id": "fb2ff86e"
      },
      "outputs": [],
      "source": [
        "def get_section_name(section, sections):\n",
        "    \n",
        "    section_name = check_section_name(section)\n",
        "    \n",
        "    if(section_name != ''):\n",
        "        return section_name\n",
        "    \n",
        "    elif (split_section_name(section) != ''):\n",
        "        return split_section_name(section)\n",
        "\n",
        "    else:\n",
        "        for i in sections:\n",
        "            if (i['title'].lower() == section.lower()):\n",
        "                return i['section']"
      ]
    },
    {
      "cell_type": "code",
      "execution_count": null,
      "id": "a22f7344",
      "metadata": {
        "id": "a22f7344"
      },
      "outputs": [],
      "source": [
        "def get_section(citation, sections):\n",
        "    section = citation.getparent().getparent()\n",
        "    while True:\n",
        "        if (section.tag != 'sec'):\n",
        "            section = section.getparent()\n",
        "            \n",
        "        elif(verify_section(section[0].text, sections) == False):\n",
        "            section = section.getparent()\n",
        "            \n",
        "        else:\n",
        "            break\n",
        "    \n",
        "    section = get_section_name(section[0].text, sections)\n",
        "    \n",
        "    return section"
      ]
    },
    {
      "cell_type": "markdown",
      "id": "7b24a57a",
      "metadata": {
        "id": "7b24a57a"
      },
      "source": [
        "#### Extraction of citation Text"
      ]
    },
    {
      "cell_type": "code",
      "execution_count": null,
      "id": "27f90db4",
      "metadata": {
        "id": "27f90db4"
      },
      "outputs": [],
      "source": [
        "def extract_Citation_Text(context, mark, citations_in_one_p):\n",
        "    text = context.replace('al.', 'al')\n",
        "    cit_text = nltk.sent_tokenize(text)\n",
        "\n",
        "    citation_mark_ = mark.replace('al.', 'al')\n",
        "    for sentence in cit_text:\n",
        "        sentence_ = sentence.replace('(' , '')\n",
        "        sentence_ = sentence_.replace(')', '')\n",
        "        citation_mark_ = citation_mark_.replace('(', '')\n",
        "        citation_mark_ = citation_mark_.replace(')', '')\n",
        "        \n",
        "        try:\n",
        "            r = re.findall('.*' + citation_mark_ + '.*' , sentence_)\n",
        "            if(len(r) >= 1):\n",
        "                check = { 'text': sentence, 'citation': mark }\n",
        "                if any(d == check for d in citations_in_one_p):\n",
        "                    continue\n",
        "                else:\n",
        "                    #print(\"found\")\n",
        "                    return sentence\n",
        "            \n",
        "        except e:\n",
        "            print(\"err\")\n",
        "            continue\n",
        "    #print(cit_text)\n",
        "    #print(citation_mark_)        \n",
        "    #print(\"not found\")"
      ]
    },
    {
      "cell_type": "code",
      "execution_count": null,
      "id": "d99c8e89",
      "metadata": {
        "id": "d99c8e89"
      },
      "outputs": [],
      "source": [
        "def extract_Citation_Schema(body, sections):\n",
        "    citations_ref = body.xpath(\".//xref\")\n",
        "    citations = []\n",
        "    \n",
        "    for i in citations_ref:\n",
        "        if(i.attrib['ref-type'] == 'bibr'):\n",
        "            citations.append(i)\n",
        "    print(len(citations))\n",
        "    citation_schema = []\n",
        "    \n",
        "    citations_in_one_p = []\n",
        "    prev_context= None\n",
        "    for citation in citations:            \n",
        "        citation_mark = etree.tostring(citation, method='text', encoding='unicode')\n",
        "        # try:\n",
        "        #     citation_style = re.findall('(.+\\d{4})', citation_mark)[0]\n",
        "            \n",
        "        # except:\n",
        "        #     citation_style = citation_mark[:4]\n",
        "            \n",
        "        #Extracting the citation context\n",
        "        context = etree.tostring(citation.getparent(), method='text', encoding='unicode') #citation paragraph\n",
        "    \n",
        "        #Extracting the citation section\n",
        "        section = get_section(citation, sections) \n",
        "        \n",
        "        #Extracting the full citation text\n",
        "        text = extract_Citation_Text(context, citation.text, citations_in_one_p)\n",
        "        \n",
        "        #Checking the citations contain in one paragraph\n",
        "        if (prev_context == None) or prev_context != context:\n",
        "            prev_context = context\n",
        "            citations_in_one_p = []\n",
        "        else:\n",
        "            citations_in_one_p.append({\n",
        "                'text': text,\n",
        "                'citation': citation.text\n",
        "            })\n",
        "            \n",
        "        citation_id = citation.attrib['rid'].split()\n",
        "        if len(citation_id) != 1:\n",
        "            for ref in citation_id:\n",
        "                citation_schema.append({\n",
        "                    'reference_id': ref,\n",
        "                    'citation_mark': citation.text,\n",
        "                    'citation_section': section,\n",
        "                    #'citation_context': context,\n",
        "                    'citation_text': text,\n",
        "                    'multi_citance': len(citation_id)\n",
        "                })\n",
        "        else:\n",
        "            citation_schema.append({\n",
        "                'reference_id': citation_id[0],\n",
        "                'citation_mark': citation.text,\n",
        "                'citation_section': section,\n",
        "                #'citation_context': context,\n",
        "                'citation_text': text,\n",
        "                'multi_citance': 1\n",
        "            })\n",
        "            \n",
        "    return citation_schema"
      ]
    },
    {
      "cell_type": "code",
      "execution_count": null,
      "id": "0277cd07",
      "metadata": {
        "id": "0277cd07"
      },
      "outputs": [],
      "source": [
        "def get_Citance_Count(citation_schema):\n",
        "    counts = {}\n",
        "\n",
        "    # Iterate through the list and update the counts dictionary\n",
        "    for item in citation_schema:\n",
        "        if item['citation_text'] != '':\n",
        "            if item['citation_text'] in counts:\n",
        "                counts[item['citation_text']] += 1\n",
        "            else:\n",
        "                counts[item['citation_text']] = 1\n",
        "\n",
        "    # Iterate through the list and update the multi_citance field for each item based on the count in the counts dictionary\n",
        "    for item in citation_schema:\n",
        "        item['multi_citance'] = counts[item['citation_text']]\n",
        "\n",
        "    return citation_schema"
      ]
    },
    {
      "cell_type": "markdown",
      "id": "db5c3fcf",
      "metadata": {
        "id": "db5c3fcf"
      },
      "source": [
        "### Reference Schema"
      ]
    },
    {
      "cell_type": "code",
      "execution_count": null,
      "id": "a78790e5",
      "metadata": {
        "id": "a78790e5"
      },
      "outputs": [],
      "source": [
        "def get_Reference_DOI(reference):\n",
        "    pub_ids = reference.findall(\".//pub-id\")\n",
        "\n",
        "    doi = ''\n",
        "    for id in pub_ids:\n",
        "      if id.attrib['pub-id-type'] == 'doi':\n",
        "        doi = id.text\n",
        "        break\n",
        "    # try:\n",
        "    #     doi = etree.tostring(doi[0], method='text', encoding='unicode')\n",
        "    # except:\n",
        "    #     doi = ''\n",
        "    \n",
        "    reference_count = None\n",
        "    if doi != '':\n",
        "        crossref_response = requests.get('https://api.crossref.org/works/' + doi)\n",
        "        if crossref_response.status_code != 404:\n",
        "            reference_count = crossref_response.json()['message']['is-referenced-by-count']\n",
        "    \n",
        "    return reference_count, doi"
      ]
    },
    {
      "cell_type": "code",
      "execution_count": null,
      "id": "7b9d54e0",
      "metadata": {
        "id": "7b9d54e0"
      },
      "outputs": [],
      "source": [
        "def extract_Reference_Schema(body):\n",
        "    references= body.xpath(\"//ref\")\n",
        "    reference_schema=[]\n",
        "    for reference in references:\n",
        "        try:\n",
        "            article_title = reference.findall(\".//article-title\")\n",
        "            article_title = etree.tostring(article_title[0], method='text', encoding='unicode')\n",
        "\n",
        "        except:\n",
        "            article_title = 'None'\n",
        "\n",
        "        article_title = ' '.join(article_title.split())\n",
        "\n",
        "        ref_author_name = ''\n",
        "        ref_author = reference.findall('.//surname')\n",
        "        for name in ref_author:\n",
        "            try:\n",
        "                ref_author_name += name.text + ', '\n",
        "            except:\n",
        "                break;\n",
        "        \n",
        "        reference_text = ''\n",
        "        try:\n",
        "            for ref_text in reference[1]:\n",
        "                reference_text += etree.tostring(ref_text, method='text', encoding='unicode') + ' '\n",
        "        except:\n",
        "            reference_text = ''\n",
        "\n",
        "        referenced_count, ref_doi = get_Reference_DOI(reference)\n",
        "        #print(referenced_count)\n",
        "\n",
        "        reference_text = re.sub(r\"(\\w)([A-Z])\", r\"\\1 \\2 \", reference_text)\n",
        "        reference_full_text_split = ' '.join(reference_text.split())\n",
        "\n",
        "        reference_schema.append({\n",
        "        'id': reference.attrib['id'],\n",
        "        'ref_doi': ref_doi,\n",
        "        'ref_author': ref_author_name[:-2],\n",
        "        'ref_text': reference_full_text_split,\n",
        "        'ref_article_title': article_title,\n",
        "        'is_referenced_count': referenced_count\n",
        "    })\n",
        "        \n",
        "    return reference_schema"
      ]
    },
    {
      "cell_type": "markdown",
      "id": "a5196495",
      "metadata": {
        "id": "a5196495"
      },
      "source": [
        "### Syntactic Analysis"
      ]
    },
    {
      "cell_type": "code",
      "execution_count": null,
      "id": "a7672eb6",
      "metadata": {
        "id": "a7672eb6"
      },
      "outputs": [],
      "source": [
        "def merge_Reference_Schema(citation_schema, reference_schema):\n",
        "    for reference in reference_schema:\n",
        "        reference['citations'] = []\n",
        "        reference['syntactic_frequency'] = 0\n",
        "        reference['polarity_score'] = 0\n",
        "        reference['Introduction'] = 0\n",
        "        reference['Method'] = 0\n",
        "        reference['Results'] = 0\n",
        "        reference['Discussion'] = 0\n",
        "        reference['score'] = 0\n",
        "\n",
        "        for citation in citation_schema:\n",
        "            if(reference['id'] == citation['reference_id']):\n",
        "                reference['citations'].append(citation)\n",
        "                \n",
        "                reference[citation['citation_section']] += 1\n",
        "\n",
        "    references_having_citation = []            \n",
        "    for reference in reference_schema:\n",
        "      if len(reference['citations']) != 0:\n",
        "        references_having_citation.append(reference)\n",
        "        \n",
        "    return references_having_citation"
      ]
    },
    {
      "cell_type": "code",
      "execution_count": null,
      "id": "a40840e5",
      "metadata": {
        "id": "a40840e5"
      },
      "outputs": [],
      "source": [
        "def find_Reference_Frequency(reference_schema):\n",
        "    reference_frequencies = []\n",
        "    for i in reference_schema:\n",
        "        i['syntactic_frequency'] = len(i['citations'])\n",
        "        reference_frequencies.append(len(i['citations']))\n",
        "    \n",
        "    ref_freq_median = np.median(reference_frequencies)\n",
        "    ref_freq_3rd_quarter =  np.percentile(reference_frequencies, 75)\n",
        "    \n",
        "    return reference_schema, ref_freq_median, ref_freq_3rd_quarter"
      ]
    },
    {
      "cell_type": "markdown",
      "id": "8e2d2a27",
      "metadata": {
        "id": "8e2d2a27"
      },
      "source": [
        "## Sentiment Analysis"
      ]
    },
    {
      "cell_type": "code",
      "execution_count": null,
      "id": "d9969b7f",
      "metadata": {
        "id": "d9969b7f"
      },
      "outputs": [],
      "source": [
        "def find_Sentiment(reference_schema):\n",
        "    for reference in reference_schema:\n",
        "        for citation in reference['citations']:\n",
        "            if citation['citation_text'] is not None:\n",
        "                sentiment = SENTIMENT_MODEL(citation['citation_text'])\n",
        "                sentiment_score = 0\n",
        "                if (sentiment[0]['label'] == 'LABEL_1'):\n",
        "                    sentiment_score = 1\n",
        "                elif (sentiment[0]['label'] == 'LABEL_2'):\n",
        "                    sentiment_score = 2 * sentiment[0]['score']\n",
        "                citation['sentiment'] = sentiment_score\n",
        "            else:\n",
        "                citation['sentiment'] = 0\n",
        "            \n",
        "            \n",
        "    return reference_schema"
      ]
    },
    {
      "cell_type": "markdown",
      "id": "55440851",
      "metadata": {
        "id": "55440851"
      },
      "source": [
        "### Scoring"
      ]
    },
    {
      "cell_type": "code",
      "execution_count": null,
      "id": "7bd6c959",
      "metadata": {
        "id": "7bd6c959"
      },
      "outputs": [],
      "source": [
        "def category(reference, quartile_one_third, quartile_two_third):\n",
        "    if (reference['score'] <= quartile_one_third ):\n",
        "        reference['scoring_category'] = \"Least Important\"\n",
        "\n",
        "    elif (reference['score'] <= quartile_two_third):\n",
        "        reference['scoring_category'] = \"Important\"\n",
        "\n",
        "    else:\n",
        "        reference['scoring_category'] = \"Most Important\"\n",
        "    \n",
        "    return reference['scoring_category']"
      ]
    },
    {
      "cell_type": "code",
      "execution_count": null,
      "id": "8b12f8a6",
      "metadata": {
        "id": "8b12f8a6"
      },
      "outputs": [],
      "source": [
        "def scoring(reference_schema, ref_freq_median, ref_freq_3rd_quarter):\n",
        "    scores = []\n",
        "    #Semantic Scoring\n",
        "    for reference in reference_schema:\n",
        "        total_citations = len(reference['citations'])\n",
        "        if total_citations == 0:\n",
        "          reference_schema.remove(reference)\n",
        "          continue\n",
        "        sentiment_score = 0\n",
        "        for citation in reference['citations']:\n",
        "            sentiment_score += citation['sentiment']\n",
        "        \n",
        "        reference['polarity_score'] = sentiment_score / total_citations\n",
        "        reference['score'] = reference['polarity_score']\n",
        "        \n",
        "    \n",
        "    #Syntactic Scoring\n",
        "    for reference in reference_schema:\n",
        "        syntactic = 0\n",
        "        for citation in reference['citations']:\n",
        "            syntactic += 1 / citation['multi_citance']\n",
        "        if (syntactic < ref_freq_median):\n",
        "            reference['score'] += 1\n",
        "\n",
        "        elif (reference['syntactic_frequency'] < ref_freq_3rd_quarter):\n",
        "            reference['score'] += 2\n",
        "\n",
        "        else:\n",
        "            reference['score'] += 3\n",
        "        \n",
        "        reference['syntactic_score'] = syntactic\n",
        "            \n",
        "    #IMRAD Scoring \n",
        "    for reference in reference_schema:\n",
        "        imrad_score = reference['Introduction'] + (reference['Method'] * 2)  + (reference['Results'] * 1.5) + (reference['Discussion'] * 1.25)\n",
        "       \n",
        "        imrad_score /= reference['syntactic_frequency']\n",
        "        reference['score'] += imrad_score\n",
        "        \n",
        "        scores.append(reference['score'])\n",
        "    \n",
        "    quartile_one_third = np.percentile(scores, 40)\n",
        "    quartile_two_third = np.percentile(scores, 75)\n",
        "    \n",
        "    #Merging all scores    \n",
        "    for reference in reference_schema:\n",
        "        reference['scoring_category'] = category(reference, quartile_one_third, quartile_two_third)\n",
        "    \n",
        "    return reference_schema"
      ]
    },
    {
      "cell_type": "markdown",
      "id": "d1587321",
      "metadata": {
        "id": "d1587321"
      },
      "source": [
        "### Open Article"
      ]
    },
    {
      "cell_type": "code",
      "source": [
        "def check_Article_Uploaded(doi):\n",
        "  try:\n",
        "    article = Article.objects.get(doi=doi)\n",
        "    return True\n",
        "  except Article.DoesNotExist:\n",
        "    return False"
      ],
      "metadata": {
        "id": "lUHJupZpBwML"
      },
      "id": "lUHJupZpBwML",
      "execution_count": null,
      "outputs": []
    },
    {
      "cell_type": "code",
      "execution_count": null,
      "id": "fab47b65",
      "metadata": {
        "id": "fab47b65"
      },
      "outputs": [],
      "source": [
        "def open_article(file_path):\n",
        "  article = open(file_path, 'r', encoding='utf-8')\n",
        "  xml_parser = etree.XMLParser(remove_blank_text=True)\n",
        "  xml_tree = etree.parse(file_path, xml_parser)\n",
        "  front = xml_tree.xpath(\"//front\")\n",
        "  front = front[0]\n",
        "  try:\n",
        "      doi, title, journal, publisher, publish_date, authors, abstract = find_Metadata(front, xml_tree)\n",
        "\n",
        "      if check_Article_Uploaded(doi) == True:'\n",
        "        print(\"Article with doi '{}' already exists\".format(doi))\n",
        "        return;\n",
        "\n",
        "      body = xml_tree.xpath(\"//body\")\n",
        "      body = body[0]\n",
        "\n",
        "      article_text_length, introduction_length, method_length, result_length, discussion_length = get_Article_Length(body)\n",
        "      print(\"Article length found\")\n",
        "\n",
        "      sections = get_Article_Sections(body, introduction_length, method_length, result_length, discussion_length)\n",
        "\n",
        "      citation_schema = extract_Citation_Schema(body, sections)\n",
        "      print(\"Extracted Citation Schema\")\n",
        "\n",
        "      citation_schema = get_Citance_Count(citation_schema)\n",
        "\n",
        "      reference_schema = extract_Reference_Schema(body)\n",
        "      print(\"Extracted Reference Schema\")\n",
        "\n",
        "      reference_schema = merge_Reference_Schema(citation_schema, reference_schema)\n",
        "\n",
        "      reference_schema, ref_freq_median, ref_freq_3rd_quarter = find_Reference_Frequency(reference_schema)\n",
        "      print(\"Reference Frequency found.\")\n",
        "\n",
        "      reference_schema = find_Sentiment(reference_schema)\n",
        "      print(\"Sentiment done.\")\n",
        "\n",
        "      reference_schema = scoring(reference_schema, ref_freq_median, ref_freq_3rd_quarter)\n",
        "      print(\"Scoring done\")\n",
        "\n",
        "      schema = {\n",
        "        \"doi\": doi,\n",
        "        \"article_title\": title,\n",
        "        \"abstract\": abstract,\n",
        "        \"journal_title\": journal,\n",
        "        \"publisher_name\": publisher,\n",
        "        \"publish_date\": publish_date,\n",
        "        \"article_authors\": authors,\n",
        "        #\"total_citations\": len(citation_schema),\n",
        "        #\"total_references\": len(reference_schema),\n",
        "        \"references\": reference_schema\n",
        "      }\n",
        "\n",
        "        # Start the session\n",
        "      try:\n",
        "          # Save the article\n",
        "          article = Article(**schema)\n",
        "          article.save()\n",
        "          \n",
        "          print(\"Successful: \", file_path)\n",
        "\n",
        "      except NotUniqueError:\n",
        "          # Handle the error\n",
        "          print(\"Article with doi '{}' already exists\".format(article.doi))\n",
        "\n",
        "      except Exception as e:\n",
        "          # Roll back the changes\n",
        "          print(e)\n",
        "\n",
        "      return schema \n",
        "  \n",
        "\n",
        "  except Exception as e:\n",
        "      print(e)\n",
        "  #crossref_response = find_CrossRef_Response(doi)"
      ]
    },
    {
      "cell_type": "code",
      "execution_count": null,
      "id": "0a76003e",
      "metadata": {
        "id": "0a76003e"
      },
      "outputs": [],
      "source": [
        "%%time\n",
        "import os\n",
        "\n",
        "folder_path = 'dataset/'\n",
        "\n",
        "for file_name in os.listdir(folder_path):\n",
        "    file_path = os.path.join(folder_path, file_name)\n",
        "    if os.path.isfile(file_path):\n",
        "        print(\"Article open: \", file_name)\n",
        "        try:\n",
        "          open_article(file_path)\n",
        "          print(\"Article succesfully uploaded.\")\n",
        "          print(\"-----------------------------\")\n",
        "        except:\n",
        "          print(\"Article failed: \", file_path)\n",
        "          print(traceback.format_exc())\n",
        "          continue\n",
        "#root = 'peerj-cs-490.xml'\n"
      ]
    },
    {
      "cell_type": "code",
      "execution_count": null,
      "id": "e5cf91b3",
      "metadata": {
        "id": "e5cf91b3"
      },
      "outputs": [],
      "source": []
    },
    {
      "cell_type": "code",
      "execution_count": null,
      "id": "9ad5bfd3",
      "metadata": {
        "id": "9ad5bfd3"
      },
      "outputs": [],
      "source": []
    },
    {
      "cell_type": "code",
      "execution_count": null,
      "id": "af0fa23a",
      "metadata": {
        "id": "af0fa23a"
      },
      "outputs": [],
      "source": []
    },
    {
      "cell_type": "code",
      "execution_count": null,
      "id": "924wQiD3ZxRo",
      "metadata": {
        "id": "924wQiD3ZxRo"
      },
      "outputs": [],
      "source": [
        "\n",
        "try:\n",
        "  schema = open_article('peerj-cs-490.xml')\n",
        "  print(\"Article succesfully uploaded.\")\n",
        "  print(\"-----------------------------\")\n",
        "except:\n",
        "  print(\"Article failed:\")\n",
        "  print(traceback.format_exc())"
      ]
    },
    {
      "cell_type": "code",
      "execution_count": null,
      "id": "443b2bc2",
      "metadata": {
        "id": "443b2bc2"
      },
      "outputs": [],
      "source": [
        "df = pd.DataFrame(schema['references'])"
      ]
    },
    {
      "cell_type": "code",
      "execution_count": null,
      "id": "296d8dd5",
      "metadata": {
        "id": "296d8dd5"
      },
      "outputs": [],
      "source": [
        "df.groupby('score').mean()"
      ]
    },
    {
      "cell_type": "code",
      "execution_count": null,
      "id": "779a623b",
      "metadata": {
        "id": "779a623b"
      },
      "outputs": [],
      "source": [
        "df['score'].value_counts()"
      ]
    },
    {
      "cell_type": "code",
      "execution_count": null,
      "id": "6baac193",
      "metadata": {
        "id": "6baac193"
      },
      "outputs": [],
      "source": [
        "df['scoring_category'].value_counts()"
      ]
    },
    {
      "cell_type": "code",
      "execution_count": null,
      "id": "65f76172",
      "metadata": {
        "id": "65f76172"
      },
      "outputs": [],
      "source": []
    },
    {
      "cell_type": "code",
      "execution_count": null,
      "id": "5f9d0aca",
      "metadata": {
        "id": "5f9d0aca"
      },
      "outputs": [],
      "source": []
    }
  ],
  "metadata": {
    "colab": {
      "provenance": []
    },
    "kernelspec": {
      "display_name": "Python 3 (ipykernel)",
      "language": "python",
      "name": "python3"
    },
    "language_info": {
      "codemirror_mode": {
        "name": "ipython",
        "version": 3
      },
      "file_extension": ".py",
      "mimetype": "text/x-python",
      "name": "python",
      "nbconvert_exporter": "python",
      "pygments_lexer": "ipython3",
      "version": "3.9.13"
    }
  },
  "nbformat": 4,
  "nbformat_minor": 5
}